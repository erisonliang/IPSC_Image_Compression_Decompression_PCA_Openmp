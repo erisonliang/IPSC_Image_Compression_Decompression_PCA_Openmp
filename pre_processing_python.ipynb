{
 "cells": [
  {
   "cell_type": "code",
   "execution_count": 2,
   "metadata": {},
   "outputs": [],
   "source": [
    "import numpy as np \n",
    "import pandas as pd"
   ]
  },
  {
   "cell_type": "code",
   "execution_count": 96,
   "metadata": {},
   "outputs": [
    {
     "data": {
      "text/html": [
       "<div>\n",
       "<style scoped>\n",
       "    .dataframe tbody tr th:only-of-type {\n",
       "        vertical-align: middle;\n",
       "    }\n",
       "\n",
       "    .dataframe tbody tr th {\n",
       "        vertical-align: top;\n",
       "    }\n",
       "\n",
       "    .dataframe thead th {\n",
       "        text-align: right;\n",
       "    }\n",
       "</style>\n",
       "<table border=\"1\" class=\"dataframe\">\n",
       "  <thead>\n",
       "    <tr style=\"text-align: right;\">\n",
       "      <th></th>\n",
       "      <th>label</th>\n",
       "      <th>1x1</th>\n",
       "      <th>1x2</th>\n",
       "      <th>1x3</th>\n",
       "      <th>1x4</th>\n",
       "      <th>1x5</th>\n",
       "      <th>1x6</th>\n",
       "      <th>1x7</th>\n",
       "      <th>1x8</th>\n",
       "      <th>1x9</th>\n",
       "      <th>...</th>\n",
       "      <th>28x19</th>\n",
       "      <th>28x20</th>\n",
       "      <th>28x21</th>\n",
       "      <th>28x22</th>\n",
       "      <th>28x23</th>\n",
       "      <th>28x24</th>\n",
       "      <th>28x25</th>\n",
       "      <th>28x26</th>\n",
       "      <th>28x27</th>\n",
       "      <th>28x28</th>\n",
       "    </tr>\n",
       "  </thead>\n",
       "  <tbody>\n",
       "    <tr>\n",
       "      <th>0</th>\n",
       "      <td>5</td>\n",
       "      <td>0</td>\n",
       "      <td>0</td>\n",
       "      <td>0</td>\n",
       "      <td>0</td>\n",
       "      <td>0</td>\n",
       "      <td>0</td>\n",
       "      <td>0</td>\n",
       "      <td>0</td>\n",
       "      <td>0</td>\n",
       "      <td>...</td>\n",
       "      <td>0</td>\n",
       "      <td>0</td>\n",
       "      <td>0</td>\n",
       "      <td>0</td>\n",
       "      <td>0</td>\n",
       "      <td>0</td>\n",
       "      <td>0</td>\n",
       "      <td>0</td>\n",
       "      <td>0</td>\n",
       "      <td>0</td>\n",
       "    </tr>\n",
       "    <tr>\n",
       "      <th>1</th>\n",
       "      <td>0</td>\n",
       "      <td>0</td>\n",
       "      <td>0</td>\n",
       "      <td>0</td>\n",
       "      <td>0</td>\n",
       "      <td>0</td>\n",
       "      <td>0</td>\n",
       "      <td>0</td>\n",
       "      <td>0</td>\n",
       "      <td>0</td>\n",
       "      <td>...</td>\n",
       "      <td>0</td>\n",
       "      <td>0</td>\n",
       "      <td>0</td>\n",
       "      <td>0</td>\n",
       "      <td>0</td>\n",
       "      <td>0</td>\n",
       "      <td>0</td>\n",
       "      <td>0</td>\n",
       "      <td>0</td>\n",
       "      <td>0</td>\n",
       "    </tr>\n",
       "    <tr>\n",
       "      <th>2</th>\n",
       "      <td>4</td>\n",
       "      <td>0</td>\n",
       "      <td>0</td>\n",
       "      <td>0</td>\n",
       "      <td>0</td>\n",
       "      <td>0</td>\n",
       "      <td>0</td>\n",
       "      <td>0</td>\n",
       "      <td>0</td>\n",
       "      <td>0</td>\n",
       "      <td>...</td>\n",
       "      <td>0</td>\n",
       "      <td>0</td>\n",
       "      <td>0</td>\n",
       "      <td>0</td>\n",
       "      <td>0</td>\n",
       "      <td>0</td>\n",
       "      <td>0</td>\n",
       "      <td>0</td>\n",
       "      <td>0</td>\n",
       "      <td>0</td>\n",
       "    </tr>\n",
       "    <tr>\n",
       "      <th>3</th>\n",
       "      <td>1</td>\n",
       "      <td>0</td>\n",
       "      <td>0</td>\n",
       "      <td>0</td>\n",
       "      <td>0</td>\n",
       "      <td>0</td>\n",
       "      <td>0</td>\n",
       "      <td>0</td>\n",
       "      <td>0</td>\n",
       "      <td>0</td>\n",
       "      <td>...</td>\n",
       "      <td>0</td>\n",
       "      <td>0</td>\n",
       "      <td>0</td>\n",
       "      <td>0</td>\n",
       "      <td>0</td>\n",
       "      <td>0</td>\n",
       "      <td>0</td>\n",
       "      <td>0</td>\n",
       "      <td>0</td>\n",
       "      <td>0</td>\n",
       "    </tr>\n",
       "    <tr>\n",
       "      <th>4</th>\n",
       "      <td>9</td>\n",
       "      <td>0</td>\n",
       "      <td>0</td>\n",
       "      <td>0</td>\n",
       "      <td>0</td>\n",
       "      <td>0</td>\n",
       "      <td>0</td>\n",
       "      <td>0</td>\n",
       "      <td>0</td>\n",
       "      <td>0</td>\n",
       "      <td>...</td>\n",
       "      <td>0</td>\n",
       "      <td>0</td>\n",
       "      <td>0</td>\n",
       "      <td>0</td>\n",
       "      <td>0</td>\n",
       "      <td>0</td>\n",
       "      <td>0</td>\n",
       "      <td>0</td>\n",
       "      <td>0</td>\n",
       "      <td>0</td>\n",
       "    </tr>\n",
       "  </tbody>\n",
       "</table>\n",
       "<p>5 rows × 785 columns</p>\n",
       "</div>"
      ],
      "text/plain": [
       "   label  1x1  1x2  1x3  1x4  1x5  1x6  1x7  1x8  1x9  ...  28x19  28x20  \\\n",
       "0      5    0    0    0    0    0    0    0    0    0  ...      0      0   \n",
       "1      0    0    0    0    0    0    0    0    0    0  ...      0      0   \n",
       "2      4    0    0    0    0    0    0    0    0    0  ...      0      0   \n",
       "3      1    0    0    0    0    0    0    0    0    0  ...      0      0   \n",
       "4      9    0    0    0    0    0    0    0    0    0  ...      0      0   \n",
       "\n",
       "   28x21  28x22  28x23  28x24  28x25  28x26  28x27  28x28  \n",
       "0      0      0      0      0      0      0      0      0  \n",
       "1      0      0      0      0      0      0      0      0  \n",
       "2      0      0      0      0      0      0      0      0  \n",
       "3      0      0      0      0      0      0      0      0  \n",
       "4      0      0      0      0      0      0      0      0  \n",
       "\n",
       "[5 rows x 785 columns]"
      ]
     },
     "execution_count": 96,
     "metadata": {},
     "output_type": "execute_result"
    }
   ],
   "source": [
    "data=pd.read_csv('./mnist-in-csv/mnist_train.csv')\n",
    "data.head()"
   ]
  },
  {
   "cell_type": "code",
   "execution_count": 97,
   "metadata": {},
   "outputs": [
    {
     "name": "stdout",
     "output_type": "stream",
     "text": [
      "5 5421\n",
      "0 5923\n",
      "4 5842\n",
      "1 6742\n",
      "9 5949\n",
      "2 5958\n",
      "3 6131\n",
      "6 5918\n",
      "7 6265\n",
      "8 5851\n"
     ]
    }
   ],
   "source": [
    "for i in data['label'].unique():\n",
    "    print(i,len(data[data['label']==i]))\n",
    "    temp_data=data[data['label']==i]\n",
    "#     print((temp_data.shape))\n",
    "    temp_data=temp_data.drop(columns='label')\n",
    "#     print(len(temp_data),type(temp_data))\n",
    "#     print(temp_data.mean().shape)\n",
    "    mean=temp_data.mean()\n",
    "    temp_data=temp_data-temp_data.mean()\n",
    "#     print((temp_data.shape))\n",
    "    with open(str(i)+'.txt', 'w') as f:\n",
    "        for k in range(temp_data.shape[1]):\n",
    "            for j in range(temp_data.shape[1]):\n",
    "                f.write(\"%s \" %temp_data.values[k][j])\n",
    "            f.write(\"\\n\")"
   ]
  },
  {
   "cell_type": "code",
   "execution_count": 98,
   "metadata": {},
   "outputs": [
    {
     "name": "stdout",
     "output_type": "stream",
     "text": [
      "5 5421\n",
      "(784,)\n",
      "0 5923\n",
      "(784,)\n",
      "4 5842\n",
      "(784,)\n",
      "1 6742\n",
      "(784,)\n",
      "9 5949\n",
      "(784,)\n",
      "2 5958\n",
      "(784,)\n",
      "3 6131\n",
      "(784,)\n",
      "6 5918\n",
      "(784,)\n",
      "7 6265\n",
      "(784,)\n",
      "8 5851\n",
      "(784,)\n"
     ]
    }
   ],
   "source": [
    "for i in data['label'].unique():\n",
    "    print(i,len(data[data['label']==i]))\n",
    "    temp_data=data[data['label']==i]\n",
    "#     print((temp_data.shape))\n",
    "    temp_data=temp_data.drop(columns='label')\n",
    "#     print(len(temp_data),type(temp_data))\n",
    "#     print(temp_data.mean().shape)\n",
    "    mean=temp_data.mean()\n",
    "    print((mean.shape))\n",
    "    with open('mean_value_'+str(i)+'.txt', 'w') as f:\n",
    "        for k in range(mean.shape[0]):\n",
    "            f.write(\"%s \" %mean.values[k])\n",
    "        f.write(\"\\n\")"
   ]
  },
  {
   "cell_type": "code",
   "execution_count": 45,
   "metadata": {},
   "outputs": [
    {
     "data": {
      "text/html": [
       "<div>\n",
       "<style scoped>\n",
       "    .dataframe tbody tr th:only-of-type {\n",
       "        vertical-align: middle;\n",
       "    }\n",
       "\n",
       "    .dataframe tbody tr th {\n",
       "        vertical-align: top;\n",
       "    }\n",
       "\n",
       "    .dataframe thead th {\n",
       "        text-align: right;\n",
       "    }\n",
       "</style>\n",
       "<table border=\"1\" class=\"dataframe\">\n",
       "  <thead>\n",
       "    <tr style=\"text-align: right;\">\n",
       "      <th></th>\n",
       "      <th>0</th>\n",
       "      <th>1</th>\n",
       "      <th>2</th>\n",
       "      <th>3</th>\n",
       "      <th>4</th>\n",
       "      <th>5</th>\n",
       "      <th>6</th>\n",
       "      <th>7</th>\n",
       "      <th>8</th>\n",
       "      <th>9</th>\n",
       "      <th>...</th>\n",
       "      <th>774</th>\n",
       "      <th>775</th>\n",
       "      <th>776</th>\n",
       "      <th>777</th>\n",
       "      <th>778</th>\n",
       "      <th>779</th>\n",
       "      <th>780</th>\n",
       "      <th>781</th>\n",
       "      <th>782</th>\n",
       "      <th>783</th>\n",
       "    </tr>\n",
       "  </thead>\n",
       "  <tbody>\n",
       "    <tr>\n",
       "      <th>0</th>\n",
       "      <td>8.03938</td>\n",
       "      <td>-13.24820</td>\n",
       "      <td>4.40447</td>\n",
       "      <td>35.8000</td>\n",
       "      <td>-9.08340</td>\n",
       "      <td>10.30220</td>\n",
       "      <td>-11.14040</td>\n",
       "      <td>-34.9849</td>\n",
       "      <td>19.2633</td>\n",
       "      <td>13.09740</td>\n",
       "      <td>...</td>\n",
       "      <td>-14.76480</td>\n",
       "      <td>0.014418</td>\n",
       "      <td>22.33400</td>\n",
       "      <td>-9.10726</td>\n",
       "      <td>35.492400</td>\n",
       "      <td>14.03330</td>\n",
       "      <td>-4.11252</td>\n",
       "      <td>-5.95485</td>\n",
       "      <td>-8.19925</td>\n",
       "      <td>-27.43720</td>\n",
       "    </tr>\n",
       "    <tr>\n",
       "      <th>1</th>\n",
       "      <td>-9.73369</td>\n",
       "      <td>-14.83630</td>\n",
       "      <td>17.16180</td>\n",
       "      <td>21.7303</td>\n",
       "      <td>-13.89870</td>\n",
       "      <td>22.95720</td>\n",
       "      <td>-23.49840</td>\n",
       "      <td>-42.2617</td>\n",
       "      <td>43.8754</td>\n",
       "      <td>9.35195</td>\n",
       "      <td>...</td>\n",
       "      <td>-11.91640</td>\n",
       "      <td>-29.020700</td>\n",
       "      <td>-4.72037</td>\n",
       "      <td>-3.84620</td>\n",
       "      <td>0.036937</td>\n",
       "      <td>7.38098</td>\n",
       "      <td>-25.49100</td>\n",
       "      <td>2.42593</td>\n",
       "      <td>-3.74462</td>\n",
       "      <td>-2.30413</td>\n",
       "    </tr>\n",
       "    <tr>\n",
       "      <th>2</th>\n",
       "      <td>19.74620</td>\n",
       "      <td>-6.41593</td>\n",
       "      <td>19.67080</td>\n",
       "      <td>-48.2316</td>\n",
       "      <td>55.75510</td>\n",
       "      <td>18.95960</td>\n",
       "      <td>11.13990</td>\n",
       "      <td>-11.0815</td>\n",
       "      <td>-13.3593</td>\n",
       "      <td>1.44186</td>\n",
       "      <td>...</td>\n",
       "      <td>-40.73970</td>\n",
       "      <td>-16.171000</td>\n",
       "      <td>-12.75940</td>\n",
       "      <td>13.46900</td>\n",
       "      <td>-5.478770</td>\n",
       "      <td>26.33980</td>\n",
       "      <td>74.52110</td>\n",
       "      <td>18.52040</td>\n",
       "      <td>-45.95810</td>\n",
       "      <td>-22.93000</td>\n",
       "    </tr>\n",
       "    <tr>\n",
       "      <th>3</th>\n",
       "      <td>9.04086</td>\n",
       "      <td>29.42690</td>\n",
       "      <td>24.80330</td>\n",
       "      <td>-18.0555</td>\n",
       "      <td>-3.25976</td>\n",
       "      <td>-11.93030</td>\n",
       "      <td>6.48051</td>\n",
       "      <td>-17.3046</td>\n",
       "      <td>29.2010</td>\n",
       "      <td>10.27620</td>\n",
       "      <td>...</td>\n",
       "      <td>-36.49620</td>\n",
       "      <td>1.906490</td>\n",
       "      <td>7.34058</td>\n",
       "      <td>-11.35930</td>\n",
       "      <td>31.275900</td>\n",
       "      <td>7.32057</td>\n",
       "      <td>45.97460</td>\n",
       "      <td>32.44540</td>\n",
       "      <td>-27.90710</td>\n",
       "      <td>-2.71118</td>\n",
       "    </tr>\n",
       "    <tr>\n",
       "      <th>4</th>\n",
       "      <td>-26.95780</td>\n",
       "      <td>6.88697</td>\n",
       "      <td>-6.09905</td>\n",
       "      <td>17.2902</td>\n",
       "      <td>-5.33004</td>\n",
       "      <td>-1.35108</td>\n",
       "      <td>12.44870</td>\n",
       "      <td>-29.8566</td>\n",
       "      <td>19.2462</td>\n",
       "      <td>-5.95677</td>\n",
       "      <td>...</td>\n",
       "      <td>-7.49059</td>\n",
       "      <td>0.790133</td>\n",
       "      <td>-6.74774</td>\n",
       "      <td>17.87940</td>\n",
       "      <td>-30.473300</td>\n",
       "      <td>27.91290</td>\n",
       "      <td>-7.64260</td>\n",
       "      <td>-5.84691</td>\n",
       "      <td>-2.17406</td>\n",
       "      <td>36.51530</td>\n",
       "    </tr>\n",
       "  </tbody>\n",
       "</table>\n",
       "<p>5 rows × 784 columns</p>\n",
       "</div>"
      ],
      "text/plain": [
       "        0         1         2        3         4         5         6    \\\n",
       "0   8.03938 -13.24820   4.40447  35.8000  -9.08340  10.30220 -11.14040   \n",
       "1  -9.73369 -14.83630  17.16180  21.7303 -13.89870  22.95720 -23.49840   \n",
       "2  19.74620  -6.41593  19.67080 -48.2316  55.75510  18.95960  11.13990   \n",
       "3   9.04086  29.42690  24.80330 -18.0555  -3.25976 -11.93030   6.48051   \n",
       "4 -26.95780   6.88697  -6.09905  17.2902  -5.33004  -1.35108  12.44870   \n",
       "\n",
       "       7        8         9    ...       774        775       776       777  \\\n",
       "0 -34.9849  19.2633  13.09740  ... -14.76480   0.014418  22.33400  -9.10726   \n",
       "1 -42.2617  43.8754   9.35195  ... -11.91640 -29.020700  -4.72037  -3.84620   \n",
       "2 -11.0815 -13.3593   1.44186  ... -40.73970 -16.171000 -12.75940  13.46900   \n",
       "3 -17.3046  29.2010  10.27620  ... -36.49620   1.906490   7.34058 -11.35930   \n",
       "4 -29.8566  19.2462  -5.95677  ...  -7.49059   0.790133  -6.74774  17.87940   \n",
       "\n",
       "         778       779       780       781       782       783  \n",
       "0  35.492400  14.03330  -4.11252  -5.95485  -8.19925 -27.43720  \n",
       "1   0.036937   7.38098 -25.49100   2.42593  -3.74462  -2.30413  \n",
       "2  -5.478770  26.33980  74.52110  18.52040 -45.95810 -22.93000  \n",
       "3  31.275900   7.32057  45.97460  32.44540 -27.90710  -2.71118  \n",
       "4 -30.473300  27.91290  -7.64260  -5.84691  -2.17406  36.51530  \n",
       "\n",
       "[5 rows x 784 columns]"
      ]
     },
     "execution_count": 45,
     "metadata": {},
     "output_type": "execute_result"
    }
   ],
   "source": [
    "re=pd.read_csv('./reconstructed_matrix_80.txt',header=None,sep=\" \" )\n",
    "re=re.drop(columns=784)\n",
    "\n",
    "re.head()"
   ]
  },
  {
   "cell_type": "code",
   "execution_count": 46,
   "metadata": {},
   "outputs": [
    {
     "name": "stdout",
     "output_type": "stream",
     "text": [
      "784\n"
     ]
    }
   ],
   "source": [
    "with open('mean_value_0.txt', 'r') as f:\n",
    "    mean=f.read()\n",
    "    mean=mean.split(' ')[:-1]\n",
    "    print(len(mean))\n",
    "#     print(mean)\n",
    "    float_lst = [float(x) for x in mean]\n",
    "    float_lst = np.array(float_lst)"
   ]
  },
  {
   "cell_type": "code",
   "execution_count": 47,
   "metadata": {},
   "outputs": [],
   "source": [
    "re=re.values+float_lst"
   ]
  },
  {
   "cell_type": "code",
   "execution_count": 48,
   "metadata": {},
   "outputs": [],
   "source": [
    "zero=pd.read_csv('0.txt',header=None,sep=\" \")\n",
    "zero=zero.drop(columns=784)\n",
    "# zero.head()\n",
    "zero=zero.values+float_lst"
   ]
  },
  {
   "cell_type": "code",
   "execution_count": 49,
   "metadata": {},
   "outputs": [
    {
     "data": {
      "image/png": "[encoded data removed]",
      "text/plain": [
       "<Figure size 432x288 with 1 Axes>"
      ]
     },
     "metadata": {
      "needs_background": "light"
     },
     "output_type": "display_data"
    }
   ],
   "source": [
    "import matplotlib.pyplot as plt\n",
    "import numpy as np\n",
    "for i in range(1): \n",
    "    X = re[i].reshape(28,28)# sample 2D array\n",
    "    Y = zero[i].reshape(28,28)\n",
    "    plt.imshow(X,cmap='gray')\n",
    "    plt.savefig('80_precent.png')\n",
    "    plt.show()"
   ]
  },
  {
   "cell_type": "code",
   "execution_count": 19,
   "metadata": {},
   "outputs": [
    {
     "data": {
      "image/png": "[encoded data removed]",
      "text/plain": [
       "<Figure size 432x288 with 1 Axes>"
      ]
     },
     "metadata": {
      "needs_background": "light"
     },
     "output_type": "display_data"
    }
   ],
   "source": [
    "import matplotlib.pyplot as plt\n",
    "import numpy as np\n",
    "for i in range(1): \n",
    "#     X = re[i].reshape(28,28)# sample 2D array\n",
    "    Y = zero[i].reshape(28,28)\n",
    "    plt.imshow(Y,cmap='gray')\n",
    "    plt.savefig('exact.png')\n",
    "    plt.show()"
   ]
  },
  {
   "cell_type": "code",
   "execution_count": 59,
   "metadata": {},
   "outputs": [
    {
     "name": "stdout",
     "output_type": "stream",
     "text": [
      "784\n"
     ]
    },
    {
     "data": {
      "image/png": "[encoded data removed]",
      "text/plain": [
       "<Figure size 432x288 with 1 Axes>"
      ]
     },
     "metadata": {
      "needs_background": "light"
     },
     "output_type": "display_data"
    }
   ],
   "source": [
    "re=pd.read_csv('./reconstructed_matrix_10.txt',header=None,sep=\" \" )\n",
    "re=re.drop(columns=784)\n",
    "with open('mean_value_8.txt', 'r') as f:\n",
    "    mean=f.read()\n",
    "    mean=mean.split(' ')[:-1]\n",
    "    print(len(mean))\n",
    "#     print(mean)\n",
    "    float_lst = [float(x) for x in mean]\n",
    "    float_lst = np.array(float_lst)\n",
    "re=re.values+float_lst\n",
    "\n",
    "import matplotlib.pyplot as plt\n",
    "import numpy as np\n",
    "for i in range(1): \n",
    "    X = re[i].reshape(28,28)# sample 2D array\n",
    "    Y = zero[i].reshape(28,28)\n",
    "    plt.imshow(X,cmap='gray')\n",
    "    plt.savefig('10_precent_8.png')\n",
    "    plt.show()"
   ]
  },
  {
   "cell_type": "code",
   "execution_count": 56,
   "metadata": {},
   "outputs": [
    {
     "name": "stdout",
     "output_type": "stream",
     "text": [
      "784\n"
     ]
    },
    {
     "data": {
      "image/png": "[encoded data removed]",
      "text/plain": [
       "<Figure size 432x288 with 1 Axes>"
      ]
     },
     "metadata": {
      "needs_background": "light"
     },
     "output_type": "display_data"
    },
    {
     "name": "stdout",
     "output_type": "stream",
     "text": [
      "784\n"
     ]
    },
    {
     "data": {
      "image/png": "[encoded data removed]",
      "text/plain": [
       "<Figure size 432x288 with 1 Axes>"
      ]
     },
     "metadata": {
      "needs_background": "light"
     },
     "output_type": "display_data"
    },
    {
     "name": "stdout",
     "output_type": "stream",
     "text": [
      "784\n"
     ]
    },
    {
     "data": {
      "image/png": "[encoded data removed]",
      "text/plain": [
       "<Figure size 432x288 with 1 Axes>"
      ]
     },
     "metadata": {
      "needs_background": "light"
     },
     "output_type": "display_data"
    },
    {
     "name": "stdout",
     "output_type": "stream",
     "text": [
      "784\n"
     ]
    },
    {
     "data": {
      "image/png": "[encoded data removed]",
      "text/plain": [
       "<Figure size 432x288 with 1 Axes>"
      ]
     },
     "metadata": {
      "needs_background": "light"
     },
     "output_type": "display_data"
    }
   ],
   "source": [
    "for i in range(20,100,20):    \n",
    "    re=pd.read_csv('./reconstructed_matrix_'+str(i)+'.txt',header=None,sep=\" \" )\n",
    "    re=re.drop(columns=784)\n",
    "    with open('mean_value_8.txt', 'r') as f:\n",
    "        mean=f.read()\n",
    "        mean=mean.split(' ')[:-1]\n",
    "        print(len(mean))\n",
    "    #     print(mean)\n",
    "        float_lst = [float(x) for x in mean]\n",
    "        float_lst = np.array(float_lst)\n",
    "    re=re.values+float_lst\n",
    "\n",
    "    import matplotlib.pyplot as plt\n",
    "    import numpy as np\n",
    "    for j in range(1): \n",
    "        X = re[j].reshape(28,28)# sample 2D array\n",
    "        Y = zero[j].reshape(28,28)\n",
    "        plt.imshow(X,cmap='gray')\n",
    "        plt.savefig(str(i)+'_precent_8.png')\n",
    "        plt.show()"
   ]
  },
  {
   "cell_type": "code",
   "execution_count": 57,
   "metadata": {},
   "outputs": [
    {
     "name": "stdout",
     "output_type": "stream",
     "text": [
      "784\n"
     ]
    },
    {
     "data": {
      "image/png": "[encoded data removed]",
      "text/plain": [
       "<Figure size 432x288 with 1 Axes>"
      ]
     },
     "metadata": {
      "needs_background": "light"
     },
     "output_type": "display_data"
    }
   ],
   "source": [
    "re=pd.read_csv('./reconstructed_matrix_90.txt',header=None,sep=\" \" )\n",
    "re=re.drop(columns=784)\n",
    "with open('mean_value_8.txt', 'r') as f:\n",
    "    mean=f.read()\n",
    "    mean=mean.split(' ')[:-1]\n",
    "    print(len(mean))\n",
    "#     print(mean)\n",
    "    float_lst = [float(x) for x in mean]\n",
    "    float_lst = np.array(float_lst)\n",
    "re=re.values+float_lst\n",
    "\n",
    "import matplotlib.pyplot as plt\n",
    "import numpy as np\n",
    "for i in range(1): \n",
    "    X = re[i].reshape(28,28)# sample 2D array\n",
    "    Y = zero[i].reshape(28,28)\n",
    "    plt.imshow(X,cmap='gray')\n",
    "    plt.savefig('90_precent_8.png')\n",
    "    plt.show()"
   ]
  },
  {
   "cell_type": "code",
   "execution_count": 58,
   "metadata": {},
   "outputs": [
    {
     "data": {
      "image/png": "[encoded data removed]",
      "text/plain": [
       "<Figure size 432x288 with 1 Axes>"
      ]
     },
     "metadata": {
      "needs_background": "light"
     },
     "output_type": "display_data"
    }
   ],
   "source": [
    "import matplotlib.pyplot as plt\n",
    "import numpy as np\n",
    "zero=pd.read_csv('8.txt',header=None,sep=\" \")\n",
    "zero=zero.drop(columns=784)\n",
    "# zero.head()\n",
    "zero=zero.values+float_lst\n",
    "for i in range(1): \n",
    "#     X = re[i].reshape(28,28)# sample 2D array\n",
    "    Y = zero[i].reshape(28,28)\n",
    "    plt.imshow(Y,cmap='gray')\n",
    "    plt.savefig('exact_8.png')\n",
    "    plt.show()"
   ]
  },
  {
   "cell_type": "code",
   "execution_count": null,
   "metadata": {},
   "outputs": [],
   "source": []
  }
 ],
 "metadata": {
  "kernelspec": {
   "display_name": "Python 3",
   "language": "python",
   "name": "python3"
  },
  "language_info": {
   "codemirror_mode": {
    "name": "ipython",
    "version": 3
   },
   "file_extension": ".py",
   "mimetype": "text/x-python",
   "name": "python",
   "nbconvert_exporter": "python",
   "pygments_lexer": "ipython3",
   "version": "3.6.7"
  }
 },
 "nbformat": 4,
 "nbformat_minor": 2
}
