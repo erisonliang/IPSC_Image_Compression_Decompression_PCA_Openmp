{
 "cells": [
  {
   "cell_type": "code",
   "execution_count": 95,
   "metadata": {},
   "outputs": [],
   "source": [
    "import numpy as np \n",
    "import pandas as pd"
   ]
  },
  {
   "cell_type": "code",
   "execution_count": 96,
   "metadata": {},
   "outputs": [
    {
     "data": {
      "text/html": [
       "<div>\n",
       "<style scoped>\n",
       "    .dataframe tbody tr th:only-of-type {\n",
       "        vertical-align: middle;\n",
       "    }\n",
       "\n",
       "    .dataframe tbody tr th {\n",
       "        vertical-align: top;\n",
       "    }\n",
       "\n",
       "    .dataframe thead th {\n",
       "        text-align: right;\n",
       "    }\n",
       "</style>\n",
       "<table border=\"1\" class=\"dataframe\">\n",
       "  <thead>\n",
       "    <tr style=\"text-align: right;\">\n",
       "      <th></th>\n",
       "      <th>label</th>\n",
       "      <th>1x1</th>\n",
       "      <th>1x2</th>\n",
       "      <th>1x3</th>\n",
       "      <th>1x4</th>\n",
       "      <th>1x5</th>\n",
       "      <th>1x6</th>\n",
       "      <th>1x7</th>\n",
       "      <th>1x8</th>\n",
       "      <th>1x9</th>\n",
       "      <th>...</th>\n",
       "      <th>28x19</th>\n",
       "      <th>28x20</th>\n",
       "      <th>28x21</th>\n",
       "      <th>28x22</th>\n",
       "      <th>28x23</th>\n",
       "      <th>28x24</th>\n",
       "      <th>28x25</th>\n",
       "      <th>28x26</th>\n",
       "      <th>28x27</th>\n",
       "      <th>28x28</th>\n",
       "    </tr>\n",
       "  </thead>\n",
       "  <tbody>\n",
       "    <tr>\n",
       "      <th>0</th>\n",
       "      <td>5</td>\n",
       "      <td>0</td>\n",
       "      <td>0</td>\n",
       "      <td>0</td>\n",
       "      <td>0</td>\n",
       "      <td>0</td>\n",
       "      <td>0</td>\n",
       "      <td>0</td>\n",
       "      <td>0</td>\n",
       "      <td>0</td>\n",
       "      <td>...</td>\n",
       "      <td>0</td>\n",
       "      <td>0</td>\n",
       "      <td>0</td>\n",
       "      <td>0</td>\n",
       "      <td>0</td>\n",
       "      <td>0</td>\n",
       "      <td>0</td>\n",
       "      <td>0</td>\n",
       "      <td>0</td>\n",
       "      <td>0</td>\n",
       "    </tr>\n",
       "    <tr>\n",
       "      <th>1</th>\n",
       "      <td>0</td>\n",
       "      <td>0</td>\n",
       "      <td>0</td>\n",
       "      <td>0</td>\n",
       "      <td>0</td>\n",
       "      <td>0</td>\n",
       "      <td>0</td>\n",
       "      <td>0</td>\n",
       "      <td>0</td>\n",
       "      <td>0</td>\n",
       "      <td>...</td>\n",
       "      <td>0</td>\n",
       "      <td>0</td>\n",
       "      <td>0</td>\n",
       "      <td>0</td>\n",
       "      <td>0</td>\n",
       "      <td>0</td>\n",
       "      <td>0</td>\n",
       "      <td>0</td>\n",
       "      <td>0</td>\n",
       "      <td>0</td>\n",
       "    </tr>\n",
       "    <tr>\n",
       "      <th>2</th>\n",
       "      <td>4</td>\n",
       "      <td>0</td>\n",
       "      <td>0</td>\n",
       "      <td>0</td>\n",
       "      <td>0</td>\n",
       "      <td>0</td>\n",
       "      <td>0</td>\n",
       "      <td>0</td>\n",
       "      <td>0</td>\n",
       "      <td>0</td>\n",
       "      <td>...</td>\n",
       "      <td>0</td>\n",
       "      <td>0</td>\n",
       "      <td>0</td>\n",
       "      <td>0</td>\n",
       "      <td>0</td>\n",
       "      <td>0</td>\n",
       "      <td>0</td>\n",
       "      <td>0</td>\n",
       "      <td>0</td>\n",
       "      <td>0</td>\n",
       "    </tr>\n",
       "    <tr>\n",
       "      <th>3</th>\n",
       "      <td>1</td>\n",
       "      <td>0</td>\n",
       "      <td>0</td>\n",
       "      <td>0</td>\n",
       "      <td>0</td>\n",
       "      <td>0</td>\n",
       "      <td>0</td>\n",
       "      <td>0</td>\n",
       "      <td>0</td>\n",
       "      <td>0</td>\n",
       "      <td>...</td>\n",
       "      <td>0</td>\n",
       "      <td>0</td>\n",
       "      <td>0</td>\n",
       "      <td>0</td>\n",
       "      <td>0</td>\n",
       "      <td>0</td>\n",
       "      <td>0</td>\n",
       "      <td>0</td>\n",
       "      <td>0</td>\n",
       "      <td>0</td>\n",
       "    </tr>\n",
       "    <tr>\n",
       "      <th>4</th>\n",
       "      <td>9</td>\n",
       "      <td>0</td>\n",
       "      <td>0</td>\n",
       "      <td>0</td>\n",
       "      <td>0</td>\n",
       "      <td>0</td>\n",
       "      <td>0</td>\n",
       "      <td>0</td>\n",
       "      <td>0</td>\n",
       "      <td>0</td>\n",
       "      <td>...</td>\n",
       "      <td>0</td>\n",
       "      <td>0</td>\n",
       "      <td>0</td>\n",
       "      <td>0</td>\n",
       "      <td>0</td>\n",
       "      <td>0</td>\n",
       "      <td>0</td>\n",
       "      <td>0</td>\n",
       "      <td>0</td>\n",
       "      <td>0</td>\n",
       "    </tr>\n",
       "  </tbody>\n",
       "</table>\n",
       "<p>5 rows × 785 columns</p>\n",
       "</div>"
      ],
      "text/plain": [
       "   label  1x1  1x2  1x3  1x4  1x5  1x6  1x7  1x8  1x9  ...  28x19  28x20  \\\n",
       "0      5    0    0    0    0    0    0    0    0    0  ...      0      0   \n",
       "1      0    0    0    0    0    0    0    0    0    0  ...      0      0   \n",
       "2      4    0    0    0    0    0    0    0    0    0  ...      0      0   \n",
       "3      1    0    0    0    0    0    0    0    0    0  ...      0      0   \n",
       "4      9    0    0    0    0    0    0    0    0    0  ...      0      0   \n",
       "\n",
       "   28x21  28x22  28x23  28x24  28x25  28x26  28x27  28x28  \n",
       "0      0      0      0      0      0      0      0      0  \n",
       "1      0      0      0      0      0      0      0      0  \n",
       "2      0      0      0      0      0      0      0      0  \n",
       "3      0      0      0      0      0      0      0      0  \n",
       "4      0      0      0      0      0      0      0      0  \n",
       "\n",
       "[5 rows x 785 columns]"
      ]
     },
     "execution_count": 96,
     "metadata": {},
     "output_type": "execute_result"
    }
   ],
   "source": [
    "data=pd.read_csv('./mnist-in-csv/mnist_train.csv')\n",
    "data.head()"
   ]
  },
  {
   "cell_type": "code",
   "execution_count": 97,
   "metadata": {},
   "outputs": [
    {
     "name": "stdout",
     "output_type": "stream",
     "text": [
      "5 5421\n",
      "0 5923\n",
      "4 5842\n",
      "1 6742\n",
      "9 5949\n",
      "2 5958\n",
      "3 6131\n",
      "6 5918\n",
      "7 6265\n",
      "8 5851\n"
     ]
    }
   ],
   "source": [
    "for i in data['label'].unique():\n",
    "    print(i,len(data[data['label']==i]))\n",
    "    temp_data=data[data['label']==i]\n",
    "#     print((temp_data.shape))\n",
    "    temp_data=temp_data.drop(columns='label')\n",
    "#     print(len(temp_data),type(temp_data))\n",
    "#     print(temp_data.mean().shape)\n",
    "    mean=temp_data.mean()\n",
    "    temp_data=temp_data-temp_data.mean()\n",
    "#     print((temp_data.shape))\n",
    "    with open(str(i)+'.txt', 'w') as f:\n",
    "        for k in range(temp_data.shape[1]):\n",
    "            for j in range(temp_data.shape[1]):\n",
    "                f.write(\"%s \" %temp_data.values[k][j])\n",
    "            f.write(\"\\n\")"
   ]
  },
  {
   "cell_type": "code",
   "execution_count": 98,
   "metadata": {},
   "outputs": [
    {
     "name": "stdout",
     "output_type": "stream",
     "text": [
      "5 5421\n",
      "(784,)\n",
      "0 5923\n",
      "(784,)\n",
      "4 5842\n",
      "(784,)\n",
      "1 6742\n",
      "(784,)\n",
      "9 5949\n",
      "(784,)\n",
      "2 5958\n",
      "(784,)\n",
      "3 6131\n",
      "(784,)\n",
      "6 5918\n",
      "(784,)\n",
      "7 6265\n",
      "(784,)\n",
      "8 5851\n",
      "(784,)\n"
     ]
    }
   ],
   "source": [
    "for i in data['label'].unique():\n",
    "    print(i,len(data[data['label']==i]))\n",
    "    temp_data=data[data['label']==i]\n",
    "#     print((temp_data.shape))\n",
    "    temp_data=temp_data.drop(columns='label')\n",
    "#     print(len(temp_data),type(temp_data))\n",
    "#     print(temp_data.mean().shape)\n",
    "    mean=temp_data.mean()\n",
    "    print((mean.shape))\n",
    "    with open('mean_value_'+str(i)+'.txt', 'w') as f:\n",
    "        for k in range(mean.shape[0]):\n",
    "            f.write(\"%s \" %mean.values[k])\n",
    "        f.write(\"\\n\")"
   ]
  },
  {
   "cell_type": "code",
   "execution_count": 99,
   "metadata": {},
   "outputs": [
    {
     "data": {
      "text/html": [
       "<div>\n",
       "<style scoped>\n",
       "    .dataframe tbody tr th:only-of-type {\n",
       "        vertical-align: middle;\n",
       "    }\n",
       "\n",
       "    .dataframe tbody tr th {\n",
       "        vertical-align: top;\n",
       "    }\n",
       "\n",
       "    .dataframe thead th {\n",
       "        text-align: right;\n",
       "    }\n",
       "</style>\n",
       "<table border=\"1\" class=\"dataframe\">\n",
       "  <thead>\n",
       "    <tr style=\"text-align: right;\">\n",
       "      <th></th>\n",
       "      <th>0</th>\n",
       "      <th>1</th>\n",
       "      <th>2</th>\n",
       "      <th>3</th>\n",
       "      <th>4</th>\n",
       "      <th>5</th>\n",
       "      <th>6</th>\n",
       "      <th>7</th>\n",
       "      <th>8</th>\n",
       "      <th>9</th>\n",
       "      <th>...</th>\n",
       "      <th>774</th>\n",
       "      <th>775</th>\n",
       "      <th>776</th>\n",
       "      <th>777</th>\n",
       "      <th>778</th>\n",
       "      <th>779</th>\n",
       "      <th>780</th>\n",
       "      <th>781</th>\n",
       "      <th>782</th>\n",
       "      <th>783</th>\n",
       "    </tr>\n",
       "  </thead>\n",
       "  <tbody>\n",
       "    <tr>\n",
       "      <th>0</th>\n",
       "      <td>-5.946350e-13</td>\n",
       "      <td>3.700370e-13</td>\n",
       "      <td>9.838800e-13</td>\n",
       "      <td>-2.264850e-14</td>\n",
       "      <td>-2.082780e-13</td>\n",
       "      <td>1.887380e-13</td>\n",
       "      <td>-6.257220e-13</td>\n",
       "      <td>2.630120e-13</td>\n",
       "      <td>2.469140e-13</td>\n",
       "      <td>4.818370e-13</td>\n",
       "      <td>...</td>\n",
       "      <td>-1.776360e-13</td>\n",
       "      <td>5.269120e-13</td>\n",
       "      <td>5.984100e-13</td>\n",
       "      <td>4.186930e-13</td>\n",
       "      <td>-3.523850e-13</td>\n",
       "      <td>4.976020e-13</td>\n",
       "      <td>-2.364780e-13</td>\n",
       "      <td>-7.150390e-13</td>\n",
       "      <td>-3.757200e-13</td>\n",
       "      <td>-1.576520e-13</td>\n",
       "    </tr>\n",
       "    <tr>\n",
       "      <th>1</th>\n",
       "      <td>8.038010e-14</td>\n",
       "      <td>9.496850e-13</td>\n",
       "      <td>9.442450e-14</td>\n",
       "      <td>7.256420e-13</td>\n",
       "      <td>-2.794990e-13</td>\n",
       "      <td>1.937340e-13</td>\n",
       "      <td>-1.492140e-13</td>\n",
       "      <td>2.349230e-13</td>\n",
       "      <td>2.403080e-13</td>\n",
       "      <td>1.096230e-12</td>\n",
       "      <td>...</td>\n",
       "      <td>1.043610e-13</td>\n",
       "      <td>1.026730e-12</td>\n",
       "      <td>1.861290e-13</td>\n",
       "      <td>2.917110e-14</td>\n",
       "      <td>-1.927350e-13</td>\n",
       "      <td>1.231850e-12</td>\n",
       "      <td>1.312840e-13</td>\n",
       "      <td>-7.289590e-13</td>\n",
       "      <td>-3.221030e-14</td>\n",
       "      <td>-7.081000e-13</td>\n",
       "    </tr>\n",
       "    <tr>\n",
       "      <th>2</th>\n",
       "      <td>-4.662940e-13</td>\n",
       "      <td>-3.541610e-13</td>\n",
       "      <td>1.660890e-13</td>\n",
       "      <td>5.919710e-13</td>\n",
       "      <td>1.035170e-12</td>\n",
       "      <td>9.068300e-13</td>\n",
       "      <td>2.806640e-13</td>\n",
       "      <td>1.481040e-13</td>\n",
       "      <td>-7.296390e-13</td>\n",
       "      <td>-1.304730e-12</td>\n",
       "      <td>...</td>\n",
       "      <td>9.530150e-13</td>\n",
       "      <td>5.031530e-13</td>\n",
       "      <td>-1.341480e-12</td>\n",
       "      <td>-8.548720e-15</td>\n",
       "      <td>7.251980e-13</td>\n",
       "      <td>-2.698950e-13</td>\n",
       "      <td>6.852300e-13</td>\n",
       "      <td>3.538840e-13</td>\n",
       "      <td>-2.097210e-13</td>\n",
       "      <td>-7.549520e-15</td>\n",
       "    </tr>\n",
       "    <tr>\n",
       "      <th>3</th>\n",
       "      <td>-5.457860e-13</td>\n",
       "      <td>-5.468960e-13</td>\n",
       "      <td>7.744920e-13</td>\n",
       "      <td>2.828850e-13</td>\n",
       "      <td>7.656100e-13</td>\n",
       "      <td>5.124790e-13</td>\n",
       "      <td>1.381120e-13</td>\n",
       "      <td>1.567630e-13</td>\n",
       "      <td>-1.145750e-13</td>\n",
       "      <td>-6.883380e-13</td>\n",
       "      <td>...</td>\n",
       "      <td>6.381560e-13</td>\n",
       "      <td>4.236610e-13</td>\n",
       "      <td>-5.522250e-13</td>\n",
       "      <td>2.884080e-13</td>\n",
       "      <td>5.893060e-13</td>\n",
       "      <td>-4.352070e-13</td>\n",
       "      <td>7.549520e-14</td>\n",
       "      <td>-3.562710e-13</td>\n",
       "      <td>-7.756300e-14</td>\n",
       "      <td>-5.639930e-13</td>\n",
       "    </tr>\n",
       "    <tr>\n",
       "      <th>4</th>\n",
       "      <td>9.283680e-13</td>\n",
       "      <td>2.156050e-13</td>\n",
       "      <td>-1.637580e-13</td>\n",
       "      <td>-1.101340e-13</td>\n",
       "      <td>-8.959500e-13</td>\n",
       "      <td>1.245670e-13</td>\n",
       "      <td>2.131630e-13</td>\n",
       "      <td>-6.764030e-13</td>\n",
       "      <td>4.147790e-13</td>\n",
       "      <td>5.004890e-13</td>\n",
       "      <td>...</td>\n",
       "      <td>-2.651210e-13</td>\n",
       "      <td>3.279600e-13</td>\n",
       "      <td>1.675880e-13</td>\n",
       "      <td>1.322900e-13</td>\n",
       "      <td>-3.894660e-13</td>\n",
       "      <td>-6.700200e-14</td>\n",
       "      <td>9.364730e-13</td>\n",
       "      <td>2.171600e-13</td>\n",
       "      <td>-1.886890e-13</td>\n",
       "      <td>-8.819610e-13</td>\n",
       "    </tr>\n",
       "  </tbody>\n",
       "</table>\n",
       "<p>5 rows × 784 columns</p>\n",
       "</div>"
      ],
      "text/plain": [
       "            0             1             2             3             4    \\\n",
       "0 -5.946350e-13  3.700370e-13  9.838800e-13 -2.264850e-14 -2.082780e-13   \n",
       "1  8.038010e-14  9.496850e-13  9.442450e-14  7.256420e-13 -2.794990e-13   \n",
       "2 -4.662940e-13 -3.541610e-13  1.660890e-13  5.919710e-13  1.035170e-12   \n",
       "3 -5.457860e-13 -5.468960e-13  7.744920e-13  2.828850e-13  7.656100e-13   \n",
       "4  9.283680e-13  2.156050e-13 -1.637580e-13 -1.101340e-13 -8.959500e-13   \n",
       "\n",
       "            5             6             7             8             9    ...  \\\n",
       "0  1.887380e-13 -6.257220e-13  2.630120e-13  2.469140e-13  4.818370e-13  ...   \n",
       "1  1.937340e-13 -1.492140e-13  2.349230e-13  2.403080e-13  1.096230e-12  ...   \n",
       "2  9.068300e-13  2.806640e-13  1.481040e-13 -7.296390e-13 -1.304730e-12  ...   \n",
       "3  5.124790e-13  1.381120e-13  1.567630e-13 -1.145750e-13 -6.883380e-13  ...   \n",
       "4  1.245670e-13  2.131630e-13 -6.764030e-13  4.147790e-13  5.004890e-13  ...   \n",
       "\n",
       "            774           775           776           777           778  \\\n",
       "0 -1.776360e-13  5.269120e-13  5.984100e-13  4.186930e-13 -3.523850e-13   \n",
       "1  1.043610e-13  1.026730e-12  1.861290e-13  2.917110e-14 -1.927350e-13   \n",
       "2  9.530150e-13  5.031530e-13 -1.341480e-12 -8.548720e-15  7.251980e-13   \n",
       "3  6.381560e-13  4.236610e-13 -5.522250e-13  2.884080e-13  5.893060e-13   \n",
       "4 -2.651210e-13  3.279600e-13  1.675880e-13  1.322900e-13 -3.894660e-13   \n",
       "\n",
       "            779           780           781           782           783  \n",
       "0  4.976020e-13 -2.364780e-13 -7.150390e-13 -3.757200e-13 -1.576520e-13  \n",
       "1  1.231850e-12  1.312840e-13 -7.289590e-13 -3.221030e-14 -7.081000e-13  \n",
       "2 -2.698950e-13  6.852300e-13  3.538840e-13 -2.097210e-13 -7.549520e-15  \n",
       "3 -4.352070e-13  7.549520e-14 -3.562710e-13 -7.756300e-14 -5.639930e-13  \n",
       "4 -6.700200e-14  9.364730e-13  2.171600e-13 -1.886890e-13 -8.819610e-13  \n",
       "\n",
       "[5 rows x 784 columns]"
      ]
     },
     "execution_count": 99,
     "metadata": {},
     "output_type": "execute_result"
    }
   ],
   "source": [
    "re=pd.read_csv('./reconstructed_matrix.txt',header=None,sep=\" \" )\n",
    "re=re.drop(columns=784)\n",
    "\n",
    "re.head()"
   ]
  },
  {
   "cell_type": "code",
   "execution_count": 100,
   "metadata": {},
   "outputs": [
    {
     "name": "stdout",
     "output_type": "stream",
     "text": [
      "784\n"
     ]
    }
   ],
   "source": [
    "with open('mean_value_0.txt', 'r') as f:\n",
    "    mean=f.read()\n",
    "    mean=mean.split(' ')[:-1]\n",
    "    print(len(mean))\n",
    "#     print(mean)\n",
    "    float_lst = [float(x) for x in mean]\n",
    "    float_lst = np.array(float_lst)"
   ]
  },
  {
   "cell_type": "code",
   "execution_count": 101,
   "metadata": {},
   "outputs": [],
   "source": [
    "re=re.values+float_lst"
   ]
  },
  {
   "cell_type": "code",
   "execution_count": 113,
   "metadata": {},
   "outputs": [],
   "source": [
    "zero=pd.read_csv('0.txt',header=None,sep=\" \")\n",
    "zero=zero.drop(columns=784)\n",
    "# zero.head()\n",
    "zero=zero.values+float_lst"
   ]
  },
  {
   "cell_type": "code",
   "execution_count": 114,
   "metadata": {},
   "outputs": [
    {
     "data": {
      "image/png": "[encoded data removed]",
      "text/plain": [
       "<Figure size 432x288 with 1 Axes>"
      ]
     },
     "metadata": {
      "needs_background": "light"
     },
     "output_type": "display_data"
    },
    {
     "data": {
      "image/png": "[encoded data removed]",
      "text/plain": [
       "<Figure size 432x288 with 1 Axes>"
      ]
     },
     "metadata": {
      "needs_background": "light"
     },
     "output_type": "display_data"
    },
    {
     "data": {
      "image/png": "[encoded data removed]",
      "text/plain": [
       "<Figure size 432x288 with 1 Axes>"
      ]
     },
     "metadata": {
      "needs_background": "light"
     },
     "output_type": "display_data"
    },
    {
     "data": {
      "image/png": "[encoded data removed]",
      "text/plain": [
       "<Figure size 432x288 with 1 Axes>"
      ]
     },
     "metadata": {
      "needs_background": "light"
     },
     "output_type": "display_data"
    },
    {
     "data": {
      "image/png": "[encoded data removed]",
      "text/plain": [
       "<Figure size 432x288 with 1 Axes>"
      ]
     },
     "metadata": {
      "needs_background": "light"
     },
     "output_type": "display_data"
    },
    {
     "data": {
      "image/png": "[encoded data removed]",
      "text/plain": [
       "<Figure size 432x288 with 1 Axes>"
      ]
     },
     "metadata": {
      "needs_background": "light"
     },
     "output_type": "display_data"
    },
    {
     "data": {
      "image/png": "[encoded data removed]",
      "text/plain": [
       "<Figure size 432x288 with 1 Axes>"
      ]
     },
     "metadata": {
      "needs_background": "light"
     },
     "output_type": "display_data"
    },
    {
     "data": {
      "image/png": "[encoded data removed]",
      "text/plain": [
       "<Figure size 432x288 with 1 Axes>"
      ]
     },
     "metadata": {
      "needs_background": "light"
     },
     "output_type": "display_data"
    },
    {
     "data": {
      "image/png": "[encoded data removed]",
      "text/plain": [
       "<Figure size 432x288 with 1 Axes>"
      ]
     },
     "metadata": {
      "needs_background": "light"
     },
     "output_type": "display_data"
    },
    {
     "data": {
      "image/png": "[encoded data removed]",
      "text/plain": [
       "<Figure size 432x288 with 1 Axes>"
      ]
     },
     "metadata": {
      "needs_background": "light"
     },
     "output_type": "display_data"
    }
   ],
   "source": [
    "import matplotlib.pyplot as plt\n",
    "import numpy as np\n",
    "for i in range(10): \n",
    "    X = re[i].reshape(28,28)# sample 2D array\n",
    "    Y = zero[i].reshape(28,28)\n",
    "    plt.imshow(X)\n",
    "    plt.show()"
   ]
  },
  {
   "cell_type": "code",
   "execution_count": 115,
   "metadata": {},
   "outputs": [
    {
     "data": {
      "image/png": "[encoded data removed]",
      "text/plain": [
       "<Figure size 432x288 with 1 Axes>"
      ]
     },
     "metadata": {
      "needs_background": "light"
     },
     "output_type": "display_data"
    },
    {
     "data": {
      "image/png": "[encoded data removed]",
      "text/plain": [
       "<Figure size 432x288 with 1 Axes>"
      ]
     },
     "metadata": {
      "needs_background": "light"
     },
     "output_type": "display_data"
    },
    {
     "data": {
      "image/png": "[encoded data removed]",
      "text/plain": [
       "<Figure size 432x288 with 1 Axes>"
      ]
     },
     "metadata": {
      "needs_background": "light"
     },
     "output_type": "display_data"
    },
    {
     "data": {
      "image/png": "[encoded data removed]",
      "text/plain": [
       "<Figure size 432x288 with 1 Axes>"
      ]
     },
     "metadata": {
      "needs_background": "light"
     },
     "output_type": "display_data"
    },
    {
     "data": {
      "image/png": "[encoded data removed]",
      "text/plain": [
       "<Figure size 432x288 with 1 Axes>"
      ]
     },
     "metadata": {
      "needs_background": "light"
     },
     "output_type": "display_data"
    },
    {
     "data": {
      "image/png": "[encoded data removed]",
      "text/plain": [
       "<Figure size 432x288 with 1 Axes>"
      ]
     },
     "metadata": {
      "needs_background": "light"
     },
     "output_type": "display_data"
    },
    {
     "data": {
      "image/png": "[encoded data removed]",
      "text/plain": [
       "<Figure size 432x288 with 1 Axes>"
      ]
     },
     "metadata": {
      "needs_background": "light"
     },
     "output_type": "display_data"
    },
    {
     "data": {
      "image/png": "[encoded data removed]",
      "text/plain": [
       "<Figure size 432x288 with 1 Axes>"
      ]
     },
     "metadata": {
      "needs_background": "light"
     },
     "output_type": "display_data"
    },
    {
     "data": {
      "image/png": "[encoded data removed]",
      "text/plain": [
       "<Figure size 432x288 with 1 Axes>"
      ]
     },
     "metadata": {
      "needs_background": "light"
     },
     "output_type": "display_data"
    },
    {
     "data": {
      "image/png": "[encoded data removed]",
      "text/plain": [
       "<Figure size 432x288 with 1 Axes>"
      ]
     },
     "metadata": {
      "needs_background": "light"
     },
     "output_type": "display_data"
    }
   ],
   "source": [
    "import matplotlib.pyplot as plt\n",
    "import numpy as np\n",
    "for i in range(10): \n",
    "#     X = re[i].reshape(28,28)# sample 2D array\n",
    "    Y = zero[i].reshape(28,28)\n",
    "    plt.imshow(Y)\n",
    "    plt.show()"
   ]
  },
  {
   "cell_type": "code",
   "execution_count": null,
   "metadata": {},
   "outputs": [],
   "source": []
  },
  {
   "cell_type": "code",
   "execution_count": null,
   "metadata": {},
   "outputs": [],
   "source": []
  }
 ],
 "metadata": {
  "kernelspec": {
   "display_name": "Python 3",
   "language": "python",
   "name": "python3"
  },
  "language_info": {
   "codemirror_mode": {
    "name": "ipython",
    "version": 3
   },
   "file_extension": ".py",
   "mimetype": "text/x-python",
   "name": "python",
   "nbconvert_exporter": "python",
   "pygments_lexer": "ipython3",
   "version": "3.6.7"
  }
 },
 "nbformat": 4,
 "nbformat_minor": 2
}
